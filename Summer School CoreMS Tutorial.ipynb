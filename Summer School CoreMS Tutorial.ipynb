{
 "cells": [
  {
   "cell_type": "markdown",
   "metadata": {},
   "source": [
    "# CoreMS Tutorial\n",
    "`CoreMS` framework for mass spectrum"
   ]
  },
  {
   "cell_type": "markdown",
   "metadata": {},
   "source": [
    "### 1. Import Bruker Transient File"
   ]
  },
  {
   "cell_type": "code",
   "execution_count": 3,
   "metadata": {},
   "outputs": [
    {
     "ename": "FileNotFoundError",
     "evalue": "File does not exist: data/ESI_NEG_SRFA.raw",
     "output_type": "error",
     "traceback": [
      "\u001b[0;31m---------------------------------------------------------------------------\u001b[0m",
      "\u001b[0;31mFileNotFoundError\u001b[0m                         Traceback (most recent call last)",
      "\u001b[0;32m/tmp/ipykernel_14/2399976833.py\u001b[0m in \u001b[0;36m<module>\u001b[0;34m\u001b[0m\n\u001b[1;32m     37\u001b[0m     \u001b[0;32mreturn\u001b[0m \u001b[0mmass_spectrum\u001b[0m\u001b[0;34m\u001b[0m\u001b[0;34m\u001b[0m\u001b[0m\n\u001b[1;32m     38\u001b[0m \u001b[0;34m\u001b[0m\u001b[0m\n\u001b[0;32m---> 39\u001b[0;31m \u001b[0mmass_spectrum\u001b[0m \u001b[0;34m=\u001b[0m \u001b[0mimport_transient\u001b[0m\u001b[0;34m(\u001b[0m\u001b[0;34m)\u001b[0m\u001b[0;34m\u001b[0m\u001b[0;34m\u001b[0m\u001b[0m\n\u001b[0m",
      "\u001b[0;32m/tmp/ipykernel_14/2399976833.py\u001b[0m in \u001b[0;36mimport_transient\u001b[0;34m()\u001b[0m\n\u001b[1;32m     25\u001b[0m \u001b[0;32mdef\u001b[0m \u001b[0mimport_transient\u001b[0m\u001b[0;34m(\u001b[0m\u001b[0;34m)\u001b[0m\u001b[0;34m:\u001b[0m\u001b[0;34m\u001b[0m\u001b[0;34m\u001b[0m\u001b[0m\n\u001b[1;32m     26\u001b[0m \u001b[0;34m\u001b[0m\u001b[0m\n\u001b[0;32m---> 27\u001b[0;31m     \u001b[0;32mwith\u001b[0m \u001b[0mReadBrukerSolarix\u001b[0m\u001b[0;34m(\u001b[0m\u001b[0mfile_location\u001b[0m\u001b[0;34m)\u001b[0m \u001b[0;32mas\u001b[0m \u001b[0mbruker_transient\u001b[0m\u001b[0;34m:\u001b[0m\u001b[0;34m\u001b[0m\u001b[0;34m\u001b[0m\u001b[0m\n\u001b[0m\u001b[1;32m     28\u001b[0m \u001b[0;34m\u001b[0m\u001b[0m\n\u001b[1;32m     29\u001b[0m         \u001b[0mmass_spectrum\u001b[0m \u001b[0;34m=\u001b[0m \u001b[0mbruker_transient\u001b[0m\u001b[0;34m.\u001b[0m\u001b[0mget_mass_spectrum\u001b[0m\u001b[0;34m(\u001b[0m\u001b[0mplot_result\u001b[0m\u001b[0;34m=\u001b[0m\u001b[0;32mFalse\u001b[0m\u001b[0;34m,\u001b[0m \u001b[0mauto_process\u001b[0m\u001b[0;34m=\u001b[0m\u001b[0;32mTrue\u001b[0m\u001b[0;34m)\u001b[0m\u001b[0;34m\u001b[0m\u001b[0;34m\u001b[0m\u001b[0m\n",
      "\u001b[0;32m/usr/local/lib/python3.7/site-packages/CoreMS-2.2.0b0-py3.7.egg/corems/transient/input/brukerSolarix.py\u001b[0m in \u001b[0;36m__init__\u001b[0;34m(self, d_directory_location)\u001b[0m\n\u001b[1;32m     44\u001b[0m \u001b[0;34m\u001b[0m\u001b[0m\n\u001b[1;32m     45\u001b[0m         \u001b[0;32mif\u001b[0m \u001b[0;32mnot\u001b[0m \u001b[0md_directory_location\u001b[0m\u001b[0;34m.\u001b[0m\u001b[0mexists\u001b[0m\u001b[0;34m(\u001b[0m\u001b[0;34m)\u001b[0m\u001b[0;34m:\u001b[0m\u001b[0;34m\u001b[0m\u001b[0;34m\u001b[0m\u001b[0m\n\u001b[0;32m---> 46\u001b[0;31m             \u001b[0;32mraise\u001b[0m \u001b[0mFileNotFoundError\u001b[0m\u001b[0;34m(\u001b[0m\u001b[0;34m\"File does not exist: \"\u001b[0m \u001b[0;34m+\u001b[0m \u001b[0mstr\u001b[0m\u001b[0;34m(\u001b[0m\u001b[0md_directory_location\u001b[0m\u001b[0;34m)\u001b[0m\u001b[0;34m)\u001b[0m\u001b[0;34m\u001b[0m\u001b[0;34m\u001b[0m\u001b[0m\n\u001b[0m\u001b[1;32m     47\u001b[0m \u001b[0;34m\u001b[0m\u001b[0m\n\u001b[1;32m     48\u001b[0m         \u001b[0mself\u001b[0m\u001b[0;34m.\u001b[0m\u001b[0md_directory_location\u001b[0m \u001b[0;34m=\u001b[0m \u001b[0md_directory_location\u001b[0m\u001b[0;34m\u001b[0m\u001b[0;34m\u001b[0m\u001b[0m\n",
      "\u001b[0;31mFileNotFoundError\u001b[0m: File does not exist: data/ESI_NEG_SRFA.raw"
     ]
    }
   ],
   "source": [
    "from pathlib import Path\n",
    "\n",
    "from matplotlib import pyplot\n",
    "\n",
    "from corems.encapsulation.factory.parameters import MSParameters\n",
    "from corems.transient.input.brukerSolarix import ReadBrukerSolarix\n",
    "\n",
    "file_location =  Path(\"../data\") / \"ESI_NEG_SRFA.raw\"\n",
    "\n",
    "MSParameters.transient.apodization_method = \"Hanning\"\n",
    "MSParameters.transient.number_of_truncations = 0\n",
    "MSParameters.transient.number_of_zero_fills = 1\n",
    "\n",
    "MSParameters.mass_spectrum.threshold_method = 'relative_abundance'\n",
    "MSParameters.mass_spectrum.relative_abundance_threshold = 1\n",
    "\n",
    "#MSParameters.mass_spectrum.threshold_method = 'signal_noise'\n",
    "#MSParameters.mass_spectrum.s2n_threshold = 50\n",
    "\n",
    "#MSParameters.mass_spectrum.threshold_method = 'auto'\n",
    "#MSParameters.mass_spectrum.noise_threshold_std = 32\n",
    "\n",
    "MSParameters.ms_peak.peak_min_prominence_percent = 1\n",
    "        \n",
    "def import_transient():\n",
    "    \n",
    "    with ReadBrukerSolarix(file_location) as bruker_transient:\n",
    "\n",
    "        mass_spectrum = bruker_transient.get_mass_spectrum(plot_result=False, auto_process=True)\n",
    "\n",
    "        mass_spectrum.plot_profile_and_noise_threshold()\n",
    "\n",
    "        print(\"m/z count\", len(mass_spectrum_obj))\n",
    "\n",
    "        print('first m/z', mass_spectrum.mspeaks[0].mz_exp, 'final m/z', mass_spectrum_obj.mspeaks[-1].mz_exp)\n",
    "    \n",
    "    return mass_spectrum\n",
    "\n",
    "mass_spectrum = import_transient()"
   ]
  },
  {
   "cell_type": "code",
   "execution_count": null,
   "metadata": {},
   "outputs": [],
   "source": [
    "#reader_obj = ReadMassList(file_location, isCentroid=True)\n",
    "#reader_obj = ReadMassList(file_location)\n",
    "#reader_obj = ReadMassList(file_location)\n",
    "#reader_obj = ReadHDF_BoosterMassSpectrum(file_location, polarity)"
   ]
  },
  {
   "cell_type": "markdown",
   "metadata": {},
   "source": [
    "### 2. Import Centroid Mass List Files\n"
   ]
  },
  {
   "cell_type": "code",
   "execution_count": 24,
   "metadata": {},
   "outputs": [
    {
     "name": "stdout",
     "output_type": "stream",
     "text": [
      "Loading mass spectrum object\n",
      "1696036.9907192576 273703.19015854585\n",
      "21507\n"
     ]
    },
    {
     "name": "stderr",
     "output_type": "stream",
     "text": [
      "/usr/local/lib/python3.7/site-packages/CoreMS-19.0.0b0-py3.7.egg/corems/mass_spectrum/input/baseClass.py:186: UserWarning: auto settings loading is enabled but could not locate the file:  data/ESI_NEG_ESFA.json. Please load the settings manually\n"
     ]
    },
    {
     "data": {
      "image/png": "[encoded data removed]",
      "text/plain": [
       "<Figure size 432x288 with 1 Axes>"
      ]
     },
     "metadata": {
      "needs_background": "light"
     },
     "output_type": "display_data"
    },
    {
     "name": "stdout",
     "output_type": "stream",
     "text": [
      "number_average_molecular_weight 404.6021468555896\n",
      "weight_average_molecular_weight 442.0792555365756\n"
     ]
    }
   ],
   "source": [
    "from matplotlib import pyplot\n",
    "\n",
    "from corems.encapsulation.factory.parameters import MSParameters\n",
    "from corems.mass_spectrum.input.massList import ReadMassList\n",
    "\n",
    "def import_centroid():\n",
    "    file_location = Path(\"data\") / \"ESI_NEG_ESFA.ascii\"\n",
    "\n",
    "    #load any type of mass list file i.e : \",\" for csv, \"\\t\" for tabulated mass list, etc\n",
    "    # Needs for columns: m/z, peak heightk, s/n and resolving power\n",
    "    mass_list_reader = ReadMassList(file_location)\n",
    "\n",
    "    #polarity need to be set or read from the file\n",
    "    polarity = -1\n",
    "\n",
    "    # Change Threshold Parameters:\n",
    "    # MSParameters.mass_spectrum.threshold_method = 'relative_abundance'\n",
    "    # MSParameters.mass_spectrum.relative_abundance_threshold = 30\n",
    "\n",
    "    # MSParameters.mass_spectrum.threshold_method = 'signal_noise'\n",
    "    # MSParameters.mass_spectrum.s2n_threshold = 100\n",
    "\n",
    "    MSParameters.mass_spectrum.threshold_method = 'auto'\n",
    "    MSParameters.mass_spectrum.noise_threshold_std = 6\n",
    "\n",
    "    mass_spectrum = mass_list_reader.get_mass_spectrum(polarity, auto_process=True)\n",
    "\n",
    "    print(mass_spectrum.baselise_noise, mass_spectrum.baselise_noise_std)\n",
    "    print(len(mass_spectrum))\n",
    "    # mass_spectrum.plot_mz_domain_profile()\n",
    "    mass_spectrum.plot_profile_and_noise_threshold()\n",
    "\n",
    "    pyplot.show()\n",
    "\n",
    "    print(\n",
    "        \"number_average_molecular_weight\",\n",
    "        mass_spectrum.number_average_molecular_weight(),\n",
    "    )\n",
    "    print(\n",
    "        \"weight_average_molecular_weight\",\n",
    "        mass_spectrum.weight_average_molecular_weight(),\n",
    "    )\n",
    "    return mass_spectrum \n",
    "\n",
    "mass_spectrum = import_centroid()"
   ]
  },
  {
   "cell_type": "markdown",
   "metadata": {},
   "source": [
    "### Import Profile Mass List Files"
   ]
  },
  {
   "cell_type": "code",
   "execution_count": 14,
   "metadata": {},
   "outputs": [
    {
     "data": {
      "image/png": "[encoded data removed]",
      "text/plain": [
       "<Figure size 432x288 with 1 Axes>"
      ]
     },
     "metadata": {
      "needs_background": "light"
     },
     "output_type": "display_data"
    }
   ],
   "source": [
    "from matplotlib import pyplot\n",
    "\n",
    "from corems.encapsulation.factory.parameters import MSParameters\n",
    "from corems.mass_spectrum.input.massList import ReadMassList\n",
    "\n",
    "file_location = Path(\"data\") / \"Thermo_Profile_MassList.txt\"\n",
    "    \n",
    "MSParameters.mass_spectrum.threshold_method = 'auto'\n",
    "MSParameters.mass_spectrum.noise_threshold_std = 3\n",
    "\n",
    "# isThermoProfile sets a exception to allow the parser of files with only two columns, i.e. m/z and abundance\n",
    "# however features that depends on s/n and or resolving power will throw a error \n",
    "def import_profile()\n",
    "    mass_list_reader = ReadMassList(file_location, header_lines=7, isCentroid=False, isThermoProfile=True)\n",
    "\n",
    "    polarity = +1\n",
    "\n",
    "    mass_spectrum = mass_list_reader.get_mass_spectrum(polarity, auto_process=True, loadSettings=False)\n",
    "\n",
    "    mass_spectrum.plot_profile_and_noise_threshold()\n",
    "\n",
    "    pyplot.show()\n",
    "    \n",
    "    return mass_spectrum\n",
    "\n",
    "mass_spectrum = import_profile()"
   ]
  },
  {
   "cell_type": "markdown",
   "metadata": {},
   "source": [
    "### 3. Access mass spectrum peak objects"
   ]
  },
  {
   "cell_type": "code",
   "execution_count": 16,
   "metadata": {},
   "outputs": [
    {
     "name": "stdout",
     "output_type": "stream",
     "text": [
      "m/z peak height resolving power S/N Kendrick Mass Defect Has Molecular Formula Obj\n",
      "183.05557112662123 81106.160128 246373.5894926149 661.9857646237955 -0.8511687993649559 False\n",
      "235.05480728964818 97430.304542 217341.48964959642 795.2228850185559 -0.7923419118010031 False\n",
      "304.2846425943308 102737.09654700001 191013.6264892256 838.5367437635044 -0.944874245780511 False\n",
      "146.02701992096132 103064.212638 275782.925401863 841.2066543508091 -0.863964174936001 False\n",
      "240.91829489325778 115954.43181800001 214722.2834152231 946.4161919071896 -0.6492822658260025 False\n",
      "216.03246421123035 118601.81853399999 226686.73139256862 968.0240736843606 -0.7912394390154702 False\n",
      "290.08050427152585 119192.26773499999 195669.80508788215 972.8433003026425 -0.7565964559928489 False\n",
      "131.05315956867491 121594.338601 290906.08438777283 992.4489223219816 -0.9068238376984539 False\n",
      "205.06411567348482 141037.226388 232762.85015720266 1151.1411217536802 -0.8351383076366119 False\n",
      "118.0167671857165 143005.44186199998 306935.6098865021 1167.2056305831452 -0.8849880668426096 False\n",
      "187.0535748463574 196391.10104100002 243559.2942638296 1602.9375941699059 -0.8447082940591599 False\n",
      "311.09487383511674 204218.58344000002 188943.17829037792 1666.8252435519466 -0.7475010902281838 False\n",
      "294.06828123632846 219476.743273 194296.86884137776 1791.3618334713794 -0.739920615086362 False\n",
      "248.06274879846487 249760.421536 211657.6126234238 2038.5362019646573 -0.7857585771461117 False\n",
      "234.06236021533851 264506.48729 217732.54234569723 2158.893097149299 -0.8010030173211931 False\n",
      "164.01774891222846 274859.978566 260345.69995259828 2243.3979464486865 -0.8346044748171266 False\n",
      "181.0442977976963 296497.123286 247666.6894851287 2419.9995975333873 -0.842141285449344 False\n",
      "163.02529918483822 333841.87379499996 260840.3679943064 2724.8062013890003 -0.8432629302192254 False\n",
      "116.0163756330704 339179.929755 309376.9707326026 2768.3752354883636 -0.8868301784672354 False\n",
      "147.01511289054218 354762.62657100003 274794.69158185256 2895.5606854019193 -0.8509538265392393 False\n",
      "180.05184791076437 368494.246609 248347.4041418565 3007.637708602537 -0.8507995814879052 False\n",
      "308.09111692514534 399523.06137199997 189886.69769583666 3260.8938562716885 -0.7470982158599213 False\n",
      "142.03208808766135 408989.011236 279590.67127746635 3338.154622269255 -0.8734931365680154 False\n",
      "291.06451787556927 460976.08120699995 195279.7678646379 3762.471347546233 -0.7395112971333901 False\n",
      "245.05899679174453 516103.96502799995 212909.521276615 4212.423290354801 -0.7853606005538722 False\n",
      "215.0484612805785 587047.132799 227203.811966554 4791.459051480751 -0.8083352593484392 False\n",
      "170.02703835644226 627114.032289 255679.82704661472 5118.4837442184335 -0.8371838651385701 False\n",
      "144.01135833137204 842581.81169 277746.1426898376 6877.124548732619 -0.8505533003472863 False\n",
      "130.04979366566374 2898136.049557 292246.7572946025 23654.489445955795 -0.9045783066290198 False\n",
      "165.025666479913 3518113.821503 259474.28776480464 28714.72727208046 -0.8413965881096033 False\n",
      "182.05222158276206 3767776.06825 246850.50444020488 30752.46217470287 -0.8489396091806327 False\n",
      "233.05900715939634 3778586.070217 218220.09837193968 30840.693048984376 -0.798770318975528 False\n",
      "162.02193002075865 7126303.746611 261747.97899822833 58164.652687251204 -0.8410141417227237 False\n",
      "179.04847887004308 7841061.197958999 331878.53753344074 63998.47908470894 -0.8485509162119627 False\n"
     ]
    }
   ],
   "source": [
    "kb = {'C': 1, 'H': 2}\n",
    "\n",
    "print(\"m/z\", \"peak height\", \"resolving power\", \"S/N\", \"Kendrick Mass Defect\", \"Has Molecular Formula Obj\")\n",
    "\n",
    "for mspeak in mass_spectrum.sort_by_abundance():\n",
    "    \n",
    "    print(mspeak.mz_exp, mspeak.abundance, mspeak.resolving_power, \n",
    "          mspeak.signal_to_noise, mspeak.kmd, mspeak.is_assigned)\n",
    "    \n",
    "    mspeak.change_kendrick_base(kb)\n",
    "\n"
   ]
  },
  {
   "cell_type": "markdown",
   "metadata": {},
   "source": [
    "### 4. How to change settings"
   ]
  },
  {
   "cell_type": "code",
   "execution_count": 17,
   "metadata": {},
   "outputs": [],
   "source": [
    "# Option 1. Before Mass Spectrum Creation\n",
    "from corems.encapsulation.factory.parameters import MSParameters\n",
    "\n",
    "# Data input \n",
    "MSParameters.data_input.add_mz_label = 'moz'\n",
    "\n",
    "# Transient\n",
    "MSParameters.transient.number_of_zero_fills = 1\n",
    "\n",
    "# Mass Spectrum \n",
    "MSParameters.mass_spectrum.min_calib_ppm_error = -1\n",
    "MSParameters.mass_spectrum.max_calib_ppm_error = 1\n",
    "MSParameters.mass_spectrum.noise_threshold_std = 2 \n",
    "\n",
    "# Molecular Formula Search\n",
    "MSParameters.molecular_search.max_dbe = 40\n",
    "MSParameters.molecular_search.min_dbe = 10\n",
    "\n",
    "# Mass Spectrum Peak Obj\n",
    "MSParameters.ms_peak.kendrick_base = {'C':1, 'H':2}\n",
    "\n",
    "# Option 2. After mass spectrum object is created you can manually change the settings inside the object:\n",
    "\n",
    "# Mass Spectrum \n",
    "mass_spectrum.settings.do_calibration = True\n",
    "\n",
    "# Molecular Formula Search\n",
    "mass_spectrum.molecular_search_settings.error_method = 'None'\n",
    "mass_spectrum.molecular_search_settings.min_ppm_error  = -1\n",
    "mass_spectrum.molecular_search_settings.max_ppm_error = 1\n",
    "mass_spectrum.molecular_search_settings.mz_error_range = 1\n",
    "\n",
    "mass_spectrum.molecular_search_settings.usedAtoms['C'] = (1,90)\n",
    "mass_spectrum.molecular_search_settings.usedAtoms['H'] = (4,200)\n",
    "mass_spectrum.molecular_search_settings.usedAtoms['O'] = (0,20)\n",
    "mass_spectrum.molecular_search_settings.usedAtoms['N'] = (0,0)\n",
    "mass_spectrum.molecular_search_settings.usedAtoms['S'] = (0,0)\n",
    "\n",
    "# Mass Spectrum Peak Obj\n",
    "mass_spectrum.mspeaks_settings\n"
   ]
  },
  {
   "cell_type": "markdown",
   "metadata": {},
   "source": [
    "### 5. Mass spectrum calibration"
   ]
  },
  {
   "cell_type": "code",
   "execution_count": 28,
   "metadata": {},
   "outputs": [
    {
     "name": "stdout",
     "output_type": "stream",
     "text": [
      "m/z count 10660\n",
      "first m/z 999.6601694407478 final m/z 155.87356999974597\n",
      "MS Obj loaded - 10660 peaks found.\n",
      "Reference mass list loaded - 60 calibration masses loaded.\n",
      "14 calibration points matched within thresholds.\n",
      "minimize function completed with RMS error of: 0.596 ppm\n",
      "minimize function performed 390 fn evals and 8 iterations\n"
     ]
    },
    {
     "data": {
      "image/png": "[encoded data removed]",
      "text/plain": [
       "<Figure size 432x288 with 1 Axes>"
      ]
     },
     "metadata": {
      "needs_background": "light"
     },
     "output_type": "display_data"
    }
   ],
   "source": [
    "from corems.encapsulation.factory.parameters import MSParameters\n",
    "from corems.mass_spectrum.calc.Calibration import MzDomainCalibration\n",
    "\n",
    "MSParameters.mass_spectrum.min_calib_ppm_error = -5\n",
    "MSParameters.mass_spectrum.max_calib_ppm_error = 5\n",
    "\n",
    "mass_spectrum = import_transient()\n",
    "\n",
    "ref_file_location = Path('data') / 'SRFA.ref'\n",
    "\n",
    "MzDomainCalibration(mass_spectrum, ref_file_location).run()\n"
   ]
  },
  {
   "cell_type": "markdown",
   "metadata": {},
   "source": [
    "### 6. Molecular formula search"
   ]
  },
  {
   "cell_type": "code",
   "execution_count": 47,
   "metadata": {},
   "outputs": [
    {
     "name": "stderr",
     "output_type": "stream",
     "text": [
      "\r",
      "Loading molecular formula database: 0it [00:00, ?it/s]"
     ]
    },
    {
     "name": "stdout",
     "output_type": "stream",
     "text": [
      "'runworker'  8.14 ms\n"
     ]
    },
    {
     "name": "stderr",
     "output_type": "stream",
     "text": [
      "Loading molecular formula database: 34514it [00:04, 8051.11it/s]\n",
      "Started molecular formula search for class {\"O\": 20}, (de)protonated : 100%|██████████| 20/20 [00:01<00:00, 11.47it/s]\n"
     ]
    },
    {
     "name": "stdout",
     "output_type": "stream",
     "text": [
      "'run_molecular_formula'  6211.38 ms\n",
      "3528 peaks assigned and 7132 peaks not assigned, total  = 33.10 %, relative abundance = 64.23 %, RMS error (best candidate) (ppm) = 3.471\n"
     ]
    },
    {
     "data": {
      "text/plain": [
       "<AxesSubplot:xlabel='$\\t{m/z}$', ylabel='Abundance'>"
      ]
     },
     "execution_count": 47,
     "metadata": {},
     "output_type": "execute_result"
    },
    {
     "data": {
      "image/png": "[encoded data removed]",
      "text/plain": [
       "<Figure size 432x288 with 1 Axes>"
      ]
     },
     "metadata": {
      "needs_background": "light"
     },
     "output_type": "display_data"
    }
   ],
   "source": [
    "from corems.molecular_id.search.molecularFormulaSearch import SearchMolecularFormulas\n",
    "from corems.molecular_id.factory.classification import HeteroatomsClassification\n",
    "\n",
    "# mass_spectrum.molecular_search_settings.url_database = \"path_to_db\"\n",
    "\n",
    "mass_spectrum.molecular_search_settings.error_method = 'None'\n",
    "mass_spectrum.molecular_search_settings.min_ppm_error  = -1\n",
    "mass_spectrum.molecular_search_settings.max_ppm_error = 1\n",
    "\n",
    "mass_spectrum.molecular_search_settings.min_dbe = 0\n",
    "mass_spectrum.molecular_search_settings.max_dbe = 50\n",
    "\n",
    "mass_spectrum.molecular_search_settings.isProtonated = True \n",
    "mass_spectrum.molecular_search_settings.isRadical= False \n",
    "mass_spectrum.molecular_search_settings.isadduct = True \n",
    "\n",
    "mass_spectrum.molecular_search_settings.usedAtoms['C'] = (1,90)\n",
    "mass_spectrum.molecular_search_settings.usedAtoms['H'] = (4,200)\n",
    "mass_spectrum.molecular_search_settings.usedAtoms['O'] = (1,20)\n",
    "mass_spectrum.molecular_search_settings.usedAtoms['N'] = (0,0)\n",
    "mass_spectrum.molecular_search_settings.usedAtoms['S'] = (0,0)\n",
    "\n",
    "SearchMolecularFormulas(mass_spectrum, first_hit=True).run_worker_mass_spectrum()\n",
    "mass_spectrum.percentile_assigned(report_error=True)\n",
    "\n",
    "mass_spectrum_by_classes = HeteroatomsClassification(mass_spectrum, choose_molecular_formula=True)\n",
    "mass_spectrum_by_classes.plot_ms_assigned_unassigned()\n"
   ]
  },
  {
   "cell_type": "markdown",
   "metadata": {},
   "source": [
    "### 7. Accessing the molecular formula  objects"
   ]
  },
  {
   "cell_type": "code",
   "execution_count": 41,
   "metadata": {},
   "outputs": [],
   "source": [
    "for mspeaks in mass_spectrum.sort_by_abundance():\n",
    "   if mspeak: #or just if mspeak:\n",
    "        for mf in mspeaks:\n",
    "            print(mf.mz_calc, mf.dbe, mf.class_label, mf.string_formated)\n"
   ]
  },
  {
   "cell_type": "code",
   "execution_count": 33,
   "metadata": {},
   "outputs": [
    {
     "name": "stdout",
     "output_type": "stream",
     "text": [
      "ICR\n"
     ]
    }
   ],
   "source": [
    "print (mass_spectrum.analyzer)"
   ]
  },
  {
   "cell_type": "markdown",
   "metadata": {},
   "source": [
    "### 8. Export the results"
   ]
  },
  {
   "cell_type": "code",
   "execution_count": 42,
   "metadata": {},
   "outputs": [
    {
     "name": "stdout",
     "output_type": "stream",
     "text": [
      "index_processed_data 1\n"
     ]
    }
   ],
   "source": [
    "#exporting data\n",
    "mass_spectrum_obj.to_csv(\"data/filename\")\n",
    "mass_spectrum_obj.to_hdf(\"data/filename\")\n",
    "\n",
    "# save pandas Datarame to pickle\n",
    "mass_spectrum_obj.to_pandas(\"data/filename\")\n",
    "\n",
    "# get pandas Dataframe\n",
    "df = mass_spectrum_obj.to_dataframe()"
   ]
  },
  {
   "cell_type": "code",
   "execution_count": 43,
   "metadata": {},
   "outputs": [
    {
     "data": {
      "text/html": [
       "<div>\n",
       "<style scoped>\n",
       "    .dataframe tbody tr th:only-of-type {\n",
       "        vertical-align: middle;\n",
       "    }\n",
       "\n",
       "    .dataframe tbody tr th {\n",
       "        vertical-align: top;\n",
       "    }\n",
       "\n",
       "    .dataframe thead th {\n",
       "        text-align: right;\n",
       "    }\n",
       "</style>\n",
       "<table border=\"1\" class=\"dataframe\">\n",
       "  <thead>\n",
       "    <tr style=\"text-align: right;\">\n",
       "      <th></th>\n",
       "      <th>Index</th>\n",
       "      <th>m/z</th>\n",
       "      <th>Calibrated m/z</th>\n",
       "      <th>Calculated m/z</th>\n",
       "      <th>Peak Height</th>\n",
       "      <th>Resolving Power</th>\n",
       "      <th>S/N</th>\n",
       "      <th>Ion Charge</th>\n",
       "      <th>Mass Error (ppm)</th>\n",
       "      <th>Mass Error Score</th>\n",
       "      <th>Isotopologue Similarity</th>\n",
       "      <th>Confidence Score</th>\n",
       "      <th>DBE</th>\n",
       "      <th>H/C</th>\n",
       "      <th>O/C</th>\n",
       "      <th>Heteroatom Class</th>\n",
       "      <th>Ion Type</th>\n",
       "      <th>Is Isotopologue</th>\n",
       "      <th>Mono Isotopic Index</th>\n",
       "      <th>Molecular Formula</th>\n",
       "    </tr>\n",
       "  </thead>\n",
       "  <tbody>\n",
       "    <tr>\n",
       "      <th>0</th>\n",
       "      <td>0</td>\n",
       "      <td>999.660169</td>\n",
       "      <td>999.660169</td>\n",
       "      <td>NaN</td>\n",
       "      <td>552551.352374</td>\n",
       "      <td>128858.974330</td>\n",
       "      <td>2.936449</td>\n",
       "      <td>-1</td>\n",
       "      <td>NaN</td>\n",
       "      <td>NaN</td>\n",
       "      <td>NaN</td>\n",
       "      <td>NaN</td>\n",
       "      <td>NaN</td>\n",
       "      <td>NaN</td>\n",
       "      <td>NaN</td>\n",
       "      <td>unassigned</td>\n",
       "      <td>NaN</td>\n",
       "      <td>NaN</td>\n",
       "      <td>NaN</td>\n",
       "      <td>NaN</td>\n",
       "    </tr>\n",
       "    <tr>\n",
       "      <th>1</th>\n",
       "      <td>1</td>\n",
       "      <td>999.122414</td>\n",
       "      <td>999.122414</td>\n",
       "      <td>NaN</td>\n",
       "      <td>583095.372495</td>\n",
       "      <td>128928.374324</td>\n",
       "      <td>3.098770</td>\n",
       "      <td>-1</td>\n",
       "      <td>NaN</td>\n",
       "      <td>NaN</td>\n",
       "      <td>NaN</td>\n",
       "      <td>NaN</td>\n",
       "      <td>NaN</td>\n",
       "      <td>NaN</td>\n",
       "      <td>NaN</td>\n",
       "      <td>unassigned</td>\n",
       "      <td>NaN</td>\n",
       "      <td>NaN</td>\n",
       "      <td>NaN</td>\n",
       "      <td>NaN</td>\n",
       "    </tr>\n",
       "    <tr>\n",
       "      <th>2</th>\n",
       "      <td>2</td>\n",
       "      <td>998.263462</td>\n",
       "      <td>998.263462</td>\n",
       "      <td>NaN</td>\n",
       "      <td>506647.667103</td>\n",
       "      <td>129039.174327</td>\n",
       "      <td>2.692501</td>\n",
       "      <td>-1</td>\n",
       "      <td>NaN</td>\n",
       "      <td>NaN</td>\n",
       "      <td>NaN</td>\n",
       "      <td>NaN</td>\n",
       "      <td>NaN</td>\n",
       "      <td>NaN</td>\n",
       "      <td>NaN</td>\n",
       "      <td>unassigned</td>\n",
       "      <td>NaN</td>\n",
       "      <td>NaN</td>\n",
       "      <td>NaN</td>\n",
       "      <td>NaN</td>\n",
       "    </tr>\n",
       "    <tr>\n",
       "      <th>3</th>\n",
       "      <td>3</td>\n",
       "      <td>997.818428</td>\n",
       "      <td>997.818428</td>\n",
       "      <td>NaN</td>\n",
       "      <td>553852.769756</td>\n",
       "      <td>129096.774335</td>\n",
       "      <td>2.943365</td>\n",
       "      <td>-1</td>\n",
       "      <td>NaN</td>\n",
       "      <td>NaN</td>\n",
       "      <td>NaN</td>\n",
       "      <td>NaN</td>\n",
       "      <td>NaN</td>\n",
       "      <td>NaN</td>\n",
       "      <td>NaN</td>\n",
       "      <td>unassigned</td>\n",
       "      <td>NaN</td>\n",
       "      <td>NaN</td>\n",
       "      <td>NaN</td>\n",
       "      <td>NaN</td>\n",
       "    </tr>\n",
       "    <tr>\n",
       "      <th>4</th>\n",
       "      <td>4</td>\n",
       "      <td>997.352826</td>\n",
       "      <td>997.352826</td>\n",
       "      <td>NaN</td>\n",
       "      <td>476154.444796</td>\n",
       "      <td>58708.079237</td>\n",
       "      <td>2.530449</td>\n",
       "      <td>-1</td>\n",
       "      <td>NaN</td>\n",
       "      <td>NaN</td>\n",
       "      <td>NaN</td>\n",
       "      <td>NaN</td>\n",
       "      <td>NaN</td>\n",
       "      <td>NaN</td>\n",
       "      <td>NaN</td>\n",
       "      <td>unassigned</td>\n",
       "      <td>NaN</td>\n",
       "      <td>NaN</td>\n",
       "      <td>NaN</td>\n",
       "      <td>NaN</td>\n",
       "    </tr>\n",
       "  </tbody>\n",
       "</table>\n",
       "</div>"
      ],
      "text/plain": [
       "   Index         m/z  Calibrated m/z  Calculated m/z    Peak Height  \\\n",
       "0      0  999.660169      999.660169             NaN  552551.352374   \n",
       "1      1  999.122414      999.122414             NaN  583095.372495   \n",
       "2      2  998.263462      998.263462             NaN  506647.667103   \n",
       "3      3  997.818428      997.818428             NaN  553852.769756   \n",
       "4      4  997.352826      997.352826             NaN  476154.444796   \n",
       "\n",
       "   Resolving Power       S/N  Ion Charge  Mass Error (ppm)  Mass Error Score  \\\n",
       "0    128858.974330  2.936449          -1               NaN               NaN   \n",
       "1    128928.374324  3.098770          -1               NaN               NaN   \n",
       "2    129039.174327  2.692501          -1               NaN               NaN   \n",
       "3    129096.774335  2.943365          -1               NaN               NaN   \n",
       "4     58708.079237  2.530449          -1               NaN               NaN   \n",
       "\n",
       "   Isotopologue Similarity  Confidence Score  DBE  H/C  O/C Heteroatom Class  \\\n",
       "0                      NaN               NaN  NaN  NaN  NaN       unassigned   \n",
       "1                      NaN               NaN  NaN  NaN  NaN       unassigned   \n",
       "2                      NaN               NaN  NaN  NaN  NaN       unassigned   \n",
       "3                      NaN               NaN  NaN  NaN  NaN       unassigned   \n",
       "4                      NaN               NaN  NaN  NaN  NaN       unassigned   \n",
       "\n",
       "   Ion Type  Is Isotopologue  Mono Isotopic Index  Molecular Formula  \n",
       "0       NaN              NaN                  NaN                NaN  \n",
       "1       NaN              NaN                  NaN                NaN  \n",
       "2       NaN              NaN                  NaN                NaN  \n",
       "3       NaN              NaN                  NaN                NaN  \n",
       "4       NaN              NaN                  NaN                NaN  "
      ]
     },
     "execution_count": 43,
     "metadata": {},
     "output_type": "execute_result"
    }
   ],
   "source": [
    "df.head()"
   ]
  },
  {
   "cell_type": "code",
   "execution_count": null,
   "metadata": {},
   "outputs": [],
   "source": []
  }
 ],
 "metadata": {
  "kernelspec": {
   "display_name": "Python 3 (ipykernel)",
   "language": "python",
   "name": "python3"
  },
  "language_info": {
   "codemirror_mode": {
    "name": "ipython",
    "version": 3
   },
   "file_extension": ".py",
   "mimetype": "text/x-python",
   "name": "python",
   "nbconvert_exporter": "python",
   "pygments_lexer": "ipython3",
   "version": "3.7.5"
  }
 },
 "nbformat": 4,
 "nbformat_minor": 2
}
